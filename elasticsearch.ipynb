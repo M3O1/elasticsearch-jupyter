{
 "cells": [
  {
   "cell_type": "code",
   "execution_count": null,
   "metadata": {},
   "outputs": [],
   "source": [
    "%%bash\n",
    "pip install Elasticsearch\n",
    "pip install docker\n",
    "wget https://s3.ap-northeast-2.amazonaws.com/bitcoin-kaggle-dataset/crypto-markets.csv # 캐글에 나온 암호화폐 데이터셋\n",
    "wget https://s3.ap-northeast-2.amazonaws.com/bitcoin-kaggle-dataset/winemag-data-130k-v2.csv # 와인 정보 데이터셋"
   ]
  },
  {
   "cell_type": "code",
   "execution_count": null,
   "metadata": {},
   "outputs": [],
   "source": [
    "import json\n",
    "import re \n",
    "import time\n",
    "\n",
    "import pandas as pd\n",
    "from elasticsearch import Elasticsearch\n",
    "from elasticsearch import helpers\n",
    "import docker"
   ]
  },
  {
   "cell_type": "markdown",
   "metadata": {},
   "source": [
    "### 0. Sample data-set 세팅"
   ]
  },
  {
   "cell_type": "code",
   "execution_count": null,
   "metadata": {},
   "outputs": [],
   "source": [
    "wine_df = pd.read_csv(\"../winemag-data-130k-v2.csv\",index_col=0)"
   ]
  },
  {
   "cell_type": "code",
   "execution_count": null,
   "metadata": {},
   "outputs": [],
   "source": [
    "wine_df.price = wine_df.price.fillna(\"0\").astype(int)\n",
    "wine_df = wine_df.fillna(\"\")"
   ]
  },
  {
   "cell_type": "markdown",
   "metadata": {},
   "source": [
    "### 1. initialize Elastic-search Client"
   ]
  },
  {
   "cell_type": "code",
   "execution_count": null,
   "metadata": {},
   "outputs": [],
   "source": [
    "es = Elasticsearch(host=\"172.17.0.2\") # 이 또한, 도커 세팅할 때 적혀 있는 방법 대로 주소 값을 알아낸 후 채워준다\n",
    "if es.ping():\n",
    "    # Check Elasticsearch is operating\n",
    "    print(\"Elasticsearch is Okay\\nElasticsearch spec\\n\")\n",
    "\n",
    "    print(json.dumps(es.info(),indent=4,sort_keys=True))"
   ]
  },
  {
   "cell_type": "markdown",
   "metadata": {},
   "source": [
    "### 2. create the index with tokenizer setting"
   ]
  },
  {
   "cell_type": "code",
   "execution_count": null,
   "metadata": {},
   "outputs": [],
   "source": [
    "index_name = \"wine_table\" # ElasticSearch에 넣을 index 이름\n",
    "\n",
    "setting = {\n",
    "    \"settings\": {\n",
    "        \"index.mapping.ignore_malformed\" : \"true\",\n",
    "        \"index\":{\n",
    "            \"analysis\" : {\n",
    "                \"tokenizer\" :{\n",
    "                    \"my_tokenizer\": {\n",
    "                        \"type\": \"standard\",\n",
    "                        \"max_token_length\" : 20\n",
    "                    }\n",
    "                },\n",
    "                \"filter\": {\n",
    "                    \"english_stop\": {\n",
    "                      \"type\":       \"stop\",\n",
    "                      \"stopwords\":  \"_english_\" \n",
    "                    },\n",
    "                    \"english_keywords\": {\n",
    "                      \"type\":       \"keyword_marker\",\n",
    "                      \"keywords\":   [\"example\"] \n",
    "                    },\n",
    "                    \"english_stemmer\": {\n",
    "                      \"type\":       \"stemmer\",\n",
    "                      \"language\":   \"english\"\n",
    "                    },\n",
    "                    \"english_possessive_stemmer\": {\n",
    "                      \"type\":       \"stemmer\",\n",
    "                      \"language\":   \"possessive_english\"\n",
    "                    }\n",
    "                  },\n",
    "                \"analyzer\" : {\n",
    "                    \"my_analyzer\" : {\n",
    "                        \"tokenizer\" : \"my_tokenizer\",\n",
    "                        \"filter\": [\n",
    "                            \"english_possessive_stemmer\",\n",
    "                            \"lowercase\",\n",
    "                            \"english_stop\",\n",
    "                            \"english_keywords\",\n",
    "                            \"english_stemmer\"\n",
    "                        ]\n",
    "                    }\n",
    "                }\n",
    "            }\n",
    "        }\n",
    "    }\n",
    "}"
   ]
  },
  {
   "cell_type": "code",
   "execution_count": null,
   "metadata": {},
   "outputs": [],
   "source": []
  },
  {
   "cell_type": "code",
   "execution_count": null,
   "metadata": {},
   "outputs": [],
   "source": [
    "# create the index \n",
    "es.indices.create(index_name,body=json.dumps(setting))"
   ]
  },
  {
   "cell_type": "code",
   "execution_count": null,
   "metadata": {},
   "outputs": [],
   "source": [
    "test_sentence = wine_df.iloc[0].description\n",
    "body = {\n",
    "    \"analyzer\" : \"my_analyzer\",\n",
    "    \"text\": test_sentence\n",
    "}\n",
    "result = es.indices.analyze(index_name,body=json.dumps(body))\n",
    "\n",
    "print(\"original sentence : \\n\", )\n",
    "print(\"tokenizer results : \\n\")\n",
    "print(json.dumps(result,indent=2))"
   ]
  },
  {
   "cell_type": "markdown",
   "metadata": {},
   "source": [
    "### 2. Put mapping in Index"
   ]
  },
  {
   "cell_type": "code",
   "execution_count": null,
   "metadata": {},
   "outputs": [],
   "source": [
    "wine_mapping = {\n",
    "    \"properties\":{\n",
    "        \"country\"   : {\"type\":\"keyword\",\"store\":True},\n",
    "        \"description\" : {\"type\":\"text\", \"analyzer\" :\"my_analyzer\"},\n",
    "        \"points\"    : {\"type\":\"integer\"},\n",
    "        \"price\"  : {\"type\":\"integer\"},\n",
    "        \"province\"  : {\"type\":\"text\",\"analyzer\":\"my_analyzer\"},\n",
    "        \"region_1\"  : {\"type\":\"keyword\"},\n",
    "        \"region_2\"     : {\"type\":\"keyword\"},\n",
    "        \"taster_name\"   : {\"type\":\"keyword\"},\n",
    "        \"taster_twitter_handle\" : {\"type\":\"keyword\",\"store\":True},\n",
    "        \"title\" : {\"type\":\"text\",\"analyzer\":\"my_analyzer\",\"fields\":{\"raw\":{\"type\":\"keyword\"}}},\n",
    "        \"variety\" : {\"type\":\"text\",\"analyzer\":\"my_analyzer\",\"fields\":{\"raw\":{\"type\":\"keyword\"}},\"store\":True},\n",
    "        \"winery\" : {\"type\":\"keyword\",\"store\":True}\n",
    "    }\n",
    "}\n",
    "\n",
    "es.indices.put_mapping(\"wine\",body=json.dumps(wine_mapping),index=index_name)"
   ]
  },
  {
   "cell_type": "code",
   "execution_count": null,
   "metadata": {},
   "outputs": [],
   "source": [
    "es.indices.get_mapping(index_name,\"wine\")"
   ]
  },
  {
   "cell_type": "markdown",
   "metadata": {},
   "source": [
    "### 4. put data into index"
   ]
  },
  {
   "cell_type": "code",
   "execution_count": null,
   "metadata": {},
   "outputs": [],
   "source": [
    "def generate_action(_index,_type):\n",
    "    def _generate_action(_source,_id=None):\n",
    "        if _id:\n",
    "            return {\n",
    "                \"_index\"  : _index,\n",
    "                \"_type\"   : _type,\n",
    "                \"_id\"     : _id,\n",
    "                \"_source\" : _source\n",
    "            }\n",
    "        else:\n",
    "            return {\n",
    "                \"_index\"  : _index,\n",
    "                \"_type\"   : _type,\n",
    "                \"_source\" : _source\n",
    "            }\n",
    "    return _generate_action"
   ]
  },
  {
   "cell_type": "code",
   "execution_count": null,
   "metadata": {},
   "outputs": [],
   "source": [
    "action = generate_action(_index=index_name,_type=\"wine\")\n",
    "actions = [action(row) for row in wine_df.to_dict(orient='records')]\n",
    "\n",
    "start = time.time()\n",
    "helpers.bulk(es,actions,stats_only=False,chunk_size=500,raise_on_error=False)\n",
    "end = time.time()\n",
    "print(\"consumed time --- {}\".format(end-start));"
   ]
  },
  {
   "cell_type": "code",
   "execution_count": null,
   "metadata": {},
   "outputs": [],
   "source": [
    "start = time.time()\n",
    "helpers.bulk(es,actions,stats_only=False,chunk_size=500,raise_on_error=False)\n",
    "end = time.time()\n",
    "print(\"consumed time --- {}\".format(end-start));"
   ]
  },
  {
   "cell_type": "markdown",
   "metadata": {},
   "source": [
    "### 5. Search"
   ]
  },
  {
   "cell_type": "code",
   "execution_count": null,
   "metadata": {},
   "outputs": [],
   "source": [
    "body = {\n",
    "    \"sort\" : [\n",
    "        {\"price\" : {\"order\" :\"desc\"}}\n",
    "    ],\n",
    "    \"_source\" : [\"country\",\"description\",\"price\"],\n",
    "    \"query\" :{ \n",
    "        \"match\":{\n",
    "            \"country\":\"Spain\" # 지정한 필드에 대해 전문 검색을 수행\n",
    "        }},\n",
    "    \"from\":1,\n",
    "    \"size\":5\n",
    "}\n",
    "es.search(index=index_name,body=json.dumps(body))"
   ]
  },
  {
   "cell_type": "markdown",
   "metadata": {},
   "source": [
    "### 쿼리와 필터의 구분\n",
    "    \n",
    "    쿼리와 필터는 둘 다 문서를 걸러내고 선택하는 용도이므로 비슷하지만, 구체적인 쓰임새가 다르다.\n",
    "\n",
    "\n",
    "| 쿼리 | 필터 |\n",
    "|----|----|\n",
    "|연관성| yes/no |\n",
    "|캐시불가|캐시 가능|\n",
    "|느림|빠름|"
   ]
  },
  {
   "cell_type": "markdown",
   "metadata": {},
   "source": [
    "루씬은 아래와 같은 형태로 역 색인표를 만든다.\n",
    "\n",
    "|필드|텀 |문서1|문서2|문서3|문서N|\n",
    "|---|---|---|---|---|---|\n",
    "|title|민주노총|1|0|0|...|\n",
    "|title|한상균|0|1|0|...|\n",
    "|title|편지|1|1|1|...|\n",
    "|genre|편지|1|0|1|...|\n",
    "\n",
    "캐시는 필터 전용 역색인표라고 할 수 있다. 마치 역색인표의 일부를 뽑아낸 것과 비슷한 모양으로 저장된다.\n",
    "\n",
    "필터 종류, 필드, 텀에 의해 캐시의 키를 정하고, 필터의 결과를 비트벡터 형태로 저장해둔다. 예를 들어, 텀 필터의 결과는 다음과 같이 캐시된다."
   ]
  },
  {
   "cell_type": "markdown",
   "metadata": {},
   "source": [
    "필터는 Bool Query에 속하는 개념.\n",
    "\n",
    "Bool Query type에는 \n",
    "    \n",
    "    - filter : filter 내 항목 모두를 밪아야 Okay \n",
    "    - must : must 내 항목 모두를 맞아야 Okay\n",
    "    - should : should 내 항목 중에 하나라도 맞으면 Okay\n",
    "    - must_not : must_not 내 항목 모두 없어야 Okay\n",
    "    \n",
    "    filter vs must : 점수를 계산하냐 안하냐의 차이"
   ]
  },
  {
   "cell_type": "code",
   "execution_count": null,
   "metadata": {},
   "outputs": [],
   "source": [
    "body = {\n",
    "    \"query\": {\n",
    "        \"bool\" : {\n",
    "            \"filter\" : [\n",
    "                { \"range\" : {\n",
    "                    \"price\" :{\n",
    "                        \"gte\" :300,\n",
    "                        \"lte\" :600\n",
    "                        }\n",
    "                    }\n",
    "                },\n",
    "                {\"terms\" : {\n",
    "                    \"country\":[\"Spain\"]\n",
    "                 }\n",
    "                }\n",
    "            ]            \n",
    "        }\n",
    "    }\n",
    "}\n",
    "es.search(index=index_name,body=json.dumps(body))"
   ]
  }
 ],
 "metadata": {
  "kernelspec": {
   "display_name": "Python 3",
   "language": "python",
   "name": "python3"
  },
  "language_info": {
   "codemirror_mode": {
    "name": "ipython",
    "version": 3
   },
   "file_extension": ".py",
   "mimetype": "text/x-python",
   "name": "python",
   "nbconvert_exporter": "python",
   "pygments_lexer": "ipython3",
   "version": "3.6.4"
  }
 },
 "nbformat": 4,
 "nbformat_minor": 2
}
